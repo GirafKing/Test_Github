{
 "cells": [
  {
   "cell_type": "code",
   "execution_count": 1,
   "id": "d4e46bba",
   "metadata": {},
   "outputs": [
    {
     "name": "stdout",
     "output_type": "stream",
     "text": [
      "dfsdfdf\n"
     ]
    }
   ],
   "source": [
    "print(\"dfsdfdf\")"
   ]
  },
  {
   "cell_type": "code",
   "execution_count": 2,
   "id": "3d0dd2b4",
   "metadata": {},
   "outputs": [
    {
     "name": "stdout",
     "output_type": "stream",
     "text": [
      "sdfdfdf\n"
     ]
    }
   ],
   "source": [
    "print(\"sdfdfdf\")"
   ]
  }
 ],
 "metadata": {
  "kernelspec": {
   "display_name": "Python 3",
   "language": "python",
   "name": "python3"
  },
  "language_info": {
   "codemirror_mode": {
    "name": "ipython",
    "version": 3
   },
   "file_extension": ".py",
   "mimetype": "text/x-python",
   "name": "python",
   "nbconvert_exporter": "python",
   "pygments_lexer": "ipython3",
   "version": "3.13.3"
  }
 },
 "nbformat": 4,
 "nbformat_minor": 5
}
